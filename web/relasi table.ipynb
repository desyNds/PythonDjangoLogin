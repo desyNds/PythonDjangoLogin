{
 "cells": [
  {
   "cell_type": "code",
   "execution_count": null,
   "metadata": {},
   "outputs": [],
   "source": [
    "from django.contrib.auth.models import User\n",
    "from orm_models import Member, Club, CityDistrict"
   ]
  },
  {
   "cell_type": "code",
   "execution_count": 1,
   "metadata": {},
   "outputs": [],
   "source": [
    "cd = CityDistrict()\n",
    "cd.name = 'Mataram'\n",
    "cd.save()"
   ]
  },
  {
   "cell_type": "code",
   "execution_count": 2,
   "metadata": {},
   "outputs": [],
   "source": [
    "cd = CityDistrict()\n",
    "cd.name = 'Lombok Tengah'\n",
    "cd.save()"
   ]
  },
  {
   "cell_type": "code",
   "execution_count": 3,
   "metadata": {},
   "outputs": [],
   "source": [
    "cd = CityDistrict()\n",
    "cd.name = 'Lombok Timur'\n",
    "cd.save()"
   ]
  },
  {
   "cell_type": "code",
   "execution_count": 4,
   "metadata": {},
   "outputs": [
    {
     "data": {
      "text/plain": [
       "<CityDistrict: Mataram>"
      ]
     },
     "execution_count": 4,
     "metadata": {},
     "output_type": "execute_result"
    }
   ],
   "source": [
    "ct = CityDistrict.objects.filter(name='Mataram').first()\n",
    "ct"
   ]
  },
  {
   "cell_type": "code",
   "execution_count": null,
   "metadata": {},
   "outputs": [],
   "source": [
    "cl = Club()\n",
    "cl.name = 'Arrihu Archery'\n",
    "cl.register_number = '286475'\n",
    "cl.since = '2013'\n",
    "cl.secretariat = 'Jl. Musium no 19 A'\n",
    "cl.city_district = ct\n",
    "cl.leader = 'Lalu Erfandi'\n",
    "cl.slogan = 'Ayo Memanah Ayo Hidupkan Sunnah'\n",
    "cl.save()"
   ]
  },
  {
   "cell_type": "code",
   "execution_count": 14,
   "metadata": {},
   "outputs": [],
   "source": [
    "u = User.objects.filter(username='fandi').first()\n",
    "u"
   ]
  }
 ],
 "metadata": {
  "kernelspec": {
   "display_name": "Django Shell-Plus",
   "language": "python",
   "name": "django_extensions"
  },
  "language_info": {
   "codemirror_mode": {
    "name": "ipython",
    "version": 3
   },
   "file_extension": ".py",
   "mimetype": "text/x-python",
   "name": "python",
   "nbconvert_exporter": "python",
   "pygments_lexer": "ipython3",
   "version": "3.5.4"
  }
 },
 "nbformat": 4,
 "nbformat_minor": 2
}
